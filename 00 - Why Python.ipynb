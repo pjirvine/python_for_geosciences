{
 "cells": [
  {
   "cell_type": "markdown",
   "metadata": {
    "slideshow": {
     "slide_type": "slide"
    }
   },
   "source": [
    "# Python for Geosciences"
   ]
  },
  {
   "cell_type": "markdown",
   "metadata": {
    "slideshow": {
     "slide_type": "fragment"
    }
   },
   "source": [
    "Course developed by: Nikolay Koldunov, email at: koldunovn@gmail.com\n",
    "\n",
    "Course modified by: Peter Irvine, email at: p.j.irvine@gmail.com\n",
    "\n",
    "Nikolay Koldunov was generous enough to make his course freely available online and gave permission to modify it. He maintains a website full of useful examples of using Python for Geosciences applications:\n",
    "http://earthpy.org/\n",
    "\n",
    "He also has a number of Python courses available to view online or download and play with:\n",
    "https://github.com/koldunovn"
   ]
  },
  {
   "cell_type": "markdown",
   "metadata": {
    "slideshow": {
     "slide_type": "skip"
    }
   },
   "source": [
    "This is part of [**Python for Geosciences**](https://github.com/koldunovn/python_for_geosciences) notes."
   ]
  },
  {
   "cell_type": "markdown",
   "metadata": {
    "slideshow": {
     "slide_type": "slide"
    }
   },
   "source": [
    "# Why python?"
   ]
  },
  {
   "cell_type": "markdown",
   "metadata": {
    "slideshow": {
     "slide_type": "fragment"
    }
   },
   "source": [
    "## - It's easy to learn, easy to read and fast to develop"
   ]
  },
  {
   "cell_type": "markdown",
   "metadata": {
    "slideshow": {
     "slide_type": "fragment"
    }
   },
   "source": [
    "It is considered to be the language of choice for beginners, and proper code formatting is in the design of the language. This is especially useful when you remember, that we are the scientist not programmers. What we need is to have a language that can be learned quickly, but at the same time is powerful enough to satisfy our needs."
   ]
  },
  {
   "cell_type": "markdown",
   "metadata": {
    "slideshow": {
     "slide_type": "slide"
    }
   },
   "source": [
    "##  - It's free and opensource. "
   ]
  },
  {
   "cell_type": "markdown",
   "metadata": {
    "slideshow": {
     "slide_type": "fragment"
    }
   },
   "source": [
    "You will be able to use your scripts even if your institute does not have enough money to buy expensive software (MATLAB or IDL). You can make changes in the code, or at least have the possibility to look at the source code if you suspect that there is a bug.\n",
    "\n",
    "Changing from one lab which has software X to another which doesn't can be a painful experience. Using open source tools makes you more mobile and makes it easier to transfer your skills to industry, etc."
   ]
  },
  {
   "cell_type": "markdown",
   "metadata": {
    "slideshow": {
     "slide_type": "slide"
    }
   },
   "source": [
    "## - It's multiplatform"
   ]
  },
  {
   "cell_type": "markdown",
   "metadata": {
    "slideshow": {
     "slide_type": "fragment"
    }
   },
   "source": [
    "You can find it on many systems, so you are not tied to Windows, Mac or Linux. It sounds great, but is not always the case: some modules will work only on limited number of operating systems (e.g. PyNGL, pyFerret)."
   ]
  },
  {
   "cell_type": "markdown",
   "metadata": {
    "slideshow": {
     "slide_type": "slide"
    }
   },
   "source": [
    "## - It's general purpose language"
   ]
  },
  {
   "cell_type": "markdown",
   "metadata": {
    "slideshow": {
     "slide_type": "fragment"
    }
   },
   "source": [
    "You can use it not only for data processing and visualization, but also for system administration, web development, database programming and so on. It is relatively easy to make your code run in the parallel mode. Last but not the least - if you ever decide to leave academia your chances on the market are much better with some python skills.\n",
    "\n",
    "Python is one of the leading languages used by developers, and by data scientists, two jobs which are possible career alteratives for you.\n",
    "\n",
    "<img  height=\"200\" src=\"files/python_over_time.png\">\n"
   ]
  },
  {
   "cell_type": "markdown",
   "metadata": {
    "slideshow": {
     "slide_type": "slide"
    }
   },
   "source": [
    "# Downsides:"
   ]
  },
  {
   "cell_type": "markdown",
   "metadata": {
    "slideshow": {
     "slide_type": "fragment"
    }
   },
   "source": [
    "## - There is a smaller legacy code base"
   ]
  },
  {
   "cell_type": "markdown",
   "metadata": {
    "slideshow": {
     "slide_type": "fragment"
    }
   },
   "source": [
    "FORTRAN and Matlab are used for decades, and have a lot of libraries for all kinds of scientific needs. There are many specific areas where no python solution is available. This problem can be partly solved by python's integration with other languages:\n",
    "\n",
    "Matlab: [MLabWrap](http://mlabwrap.sourceforge.net/)\n",
    "\n",
    "Fortran: [F2py](http://www.f2py.com/)\n",
    "\n",
    "R: [RPy2](https://rpy2.bitbucket.io/)\n",
    "\n",
    "CDO: [CDO](https://pypi.python.org/pypi/cdo)\n",
    "\n",
    "NCO: [NCO](https://github.com/nco/pynco)\n",
    "\n",
    "NCL: [NCL](https://www.pyngl.ucar.edu/newusers.shtml)\n",
    "\n",
    "and check for others, many centres are working in Python now."
   ]
  },
  {
   "cell_type": "markdown",
   "metadata": {
    "slideshow": {
     "slide_type": "slide"
    }
   },
   "source": [
    "## - It's slow"
   ]
  },
  {
   "cell_type": "markdown",
   "metadata": {
    "slideshow": {
     "slide_type": "fragment"
    }
   },
   "source": [
    "... if you don't use vectorization (available in the NumPy package) or [Cython](http://www.cython.org/) (a tool for writing C / C++ extensions within python) then slow-ish loops are inevitable. Critical parts still can be written in FORTRAN or C.  "
   ]
  },
  {
   "cell_type": "markdown",
   "metadata": {
    "slideshow": {
     "slide_type": "slide"
    }
   },
   "source": [
    "# Python in Earth Sciences"
   ]
  },
  {
   "cell_type": "markdown",
   "metadata": {
    "slideshow": {
     "slide_type": "fragment"
    }
   },
   "source": [
    "Lin, J. W.-B. (2012). [**Why Python Is the Next Wave in Earth Sciences Computing**](http://journals.ametsoc.org/doi/full/10.1175/BAMS-D-12-00148.1). *Bulletin of the American Meteorological Society*, 93(12), 1823–1824. doi:10.1175/BAMS-D-12-00148.1"
   ]
  },
  {
   "cell_type": "markdown",
   "metadata": {
    "slideshow": {
     "slide_type": "fragment"
    }
   },
   "source": [
    "- Though it has been around for two decades, it exploded into use in the atmospheric sciences just a few years ago after the development community converged upon the standard scientific packages (e.g., array handling) needed for atmospheric sciences work.\n",
    "\n",
    "- Much more robust and flexible workflow. Everything from data download to data analysys, visualization and finally writing a paper can be done in one environment.\n",
    "\n",
    "- Institutional support includes groups at Lawrence Livermore National Laboratory’s Program for Climate Model Diagnosis and Intercomparison, NCAR’s Computer Information Systems Laboratory, and the British Atmospheric Data Centre."
   ]
  },
  {
   "cell_type": "markdown",
   "metadata": {},
   "source": [
    "# Python in Data sciences"
   ]
  },
  {
   "cell_type": "markdown",
   "metadata": {},
   "source": [
    "Python is becoming a standard for data sciences applications, and data science is developing some incredibly powerful machine learning and AI tools that are starting to make it into academic applications.\n",
    "\n",
    "I've yet to use any of these fancy tools but they're out there and Python opens a door to getting to grips with them."
   ]
  },
  {
   "cell_type": "markdown",
   "metadata": {
    "slideshow": {
     "slide_type": "slide"
    }
   },
   "source": [
    "## Further reading:"
   ]
  },
  {
   "cell_type": "markdown",
   "metadata": {
    "slideshow": {
     "slide_type": "fragment"
    }
   },
   "source": [
    "*  [10 Reasons Python Rocks for Research (And a Few Reasons it Doesn’t)](http://www.stat.washington.edu/~hoytak/blog/whypython.html)\n",
    "*  [I used Matlab. Now I use Python](http://stevetjoa.com/305/)\n",
    "*  [Eight Advantages of Python Over Matlab](http://phillipmfeldman.org/Python/Advantages_of_Python_Over_Matlab.html)\n",
    "*  [Lectures on Scientific Computing with Python.](https://github.com/jrjohansson/scientific-python-lectures#online-read-only-versions)\n",
    "*  [Python Scientific Lecture Notes](http://scipy-lectures.github.io/)\n",
    "*  [NumPy for Matlab Users](http://wiki.scipy.org/NumPy_for_Matlab_Users)\n",
    "*  [Python data tools just keep getting better](http://strata.oreilly.com/2013/03/python-data-tools-just-keep-getting-better.html)\n",
    "*  [Third Symposium on Advances in Modeling and Analysis Using Python](http://annual.ametsoc.org/2013/index.cfm/programs-and-events/conferences-and-symposia/third-symposium-on-advances-in-modeling-and-analysis-using-python/)"
   ]
  },
  {
   "cell_type": "code",
   "execution_count": null,
   "metadata": {
    "collapsed": true
   },
   "outputs": [],
   "source": []
  }
 ],
 "metadata": {
  "kernelspec": {
   "display_name": "Python 2",
   "language": "python",
   "name": "python2"
  },
  "language_info": {
   "codemirror_mode": {
    "name": "ipython",
    "version": 2
   },
   "file_extension": ".py",
   "mimetype": "text/x-python",
   "name": "python",
   "nbconvert_exporter": "python",
   "pygments_lexer": "ipython2",
   "version": "2.7.13"
  }
 },
 "nbformat": 4,
 "nbformat_minor": 1
}
