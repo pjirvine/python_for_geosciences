{
 "cells": [
  {
   "cell_type": "markdown",
   "metadata": {
    "slideshow": {
     "slide_type": "slide"
    }
   },
   "source": [
    "# Python for Geosciences"
   ]
  },
  {
   "cell_type": "markdown",
   "metadata": {
    "slideshow": {
     "slide_type": "fragment"
    }
   },
   "source": [
    "Course developed by: Nikolay Koldunov, email at: koldunovn@gmail.com\n",
    "\n",
    "Course modified by: Peter Irvine, email at: p.j.irvine@gmail.com\n",
    "\n",
    "developed from [**Python for Geosciences**](https://github.com/koldunovn/python_for_geosciences) notes.\n"
   ]
  },
  {
   "cell_type": "markdown",
   "metadata": {
    "slideshow": {
     "slide_type": "slide"
    }
   },
   "source": [
    "# My coding before Python"
   ]
  },
  {
   "cell_type": "markdown",
   "metadata": {},
   "source": [
    "<img  height=\"50\" width=\"600\" src=\"files/Slide1.PNG\">"
   ]
  },
  {
   "cell_type": "markdown",
   "metadata": {},
   "source": [
    "## - IDL for all analysis"
   ]
  },
  {
   "cell_type": "markdown",
   "metadata": {},
   "source": [
    "IDL is similar to Matlab in that it has a vast built-in toolset of functions. It has great visualization tools but licenses are very expensive and less common than Matlab and others."
   ]
  },
  {
   "cell_type": "markdown",
   "metadata": {
    "slideshow": {
     "slide_type": "fragment"
    }
   },
   "source": [
    "## - Shell scripting for all processing"
   ]
  },
  {
   "cell_type": "markdown",
   "metadata": {
    "slideshow": {
     "slide_type": "fragment"
    }
   },
   "source": [
    "Shell scripting is great for simple applications but it doesn't have many advanced datatypes or tools. For more complicated tasks it can become very messy, requiring many intermediate steps."
   ]
  },
  {
   "cell_type": "markdown",
   "metadata": {
    "slideshow": {
     "slide_type": "slide"
    }
   },
   "source": [
    "##  - No sensible system for debugging"
   ]
  },
  {
   "cell_type": "markdown",
   "metadata": {
    "slideshow": {
     "slide_type": "fragment"
    }
   },
   "source": [
    "I used to edit the working versions of my scripts directly when adding new features. This meant it was very easy to lose track of changes and find that I'd broken the script and didn't know why."
   ]
  },
  {
   "cell_type": "markdown",
   "metadata": {
    "slideshow": {
     "slide_type": "slide"
    }
   },
   "source": [
    "# My coding with Python"
   ]
  },
  {
   "cell_type": "markdown",
   "metadata": {},
   "source": [
    "<img  height=\"50\" width=\"600\" src=\"files/Slide2.PNG\">"
   ]
  },
  {
   "cell_type": "markdown",
   "metadata": {
    "slideshow": {
     "slide_type": "slide"
    }
   },
   "source": [
    "## - Python for everything..."
   ]
  },
  {
   "cell_type": "markdown",
   "metadata": {
    "slideshow": {
     "slide_type": "fragment"
    }
   },
   "source": [
    "Python has hundreds of modules for all sorts of tasks and many modules that allow you to access tools and languages from within the Python environment. This means you can use a simple, generic, high-level language to access (almost) all the other tools you'd want to, e.g. to use the efficient CDO and NCO routines to process data."
   ]
  },
  {
   "cell_type": "markdown",
   "metadata": {},
   "source": [
    "## - ... except the simplest stuff which I do with shell scripting"
   ]
  },
  {
   "cell_type": "markdown",
   "metadata": {},
   "source": [
    "The only times I use shell scripting now is when I have very simple processing tasks (e.g. one or two for-loops). "
   ]
  },
  {
   "cell_type": "markdown",
   "metadata": {},
   "source": [
    "## - Git for version control "
   ]
  },
  {
   "cell_type": "markdown",
   "metadata": {},
   "source": [
    "Instead of seat-of-the-pants development and debugging, I now rely on git for version control to keep track of and manage changes to code. Git is a system that can store and retrieve images of all your working files, allowing you to record how your scripts have changed. \n",
    "\n",
    "Git runs locally on your machine but Github and bitbucket are free (up to a point) services that allow you to share and store code online. Github even lets you display Jupyter notebooks online, like I'm doing now!\n",
    "\n",
    "Git allows you to commit (save) images of all your files with comments to keep track of what you've done for later recovery and comparison. These commits can be labeled as separate branches to keep track of features. For example, this image shows a series of commits to a \"develop\" branch that is integrated to a \"master\" branch when things are working. By keeping the \"master\" and \"develop\" branches separate you can have a version (master 1) which you are sure will produce the figures you used in presentation 1 and you can restore it whenever you want.\n",
    "\n",
    "<img  height=\"50\" width=\"400\" src=\"files/git_main-branches.png\"> \n",
    "\n",
    "You can take this a step further and branch off every time you add a \"new feature\", only working the new feature into the \"develop\" branch when it works.\n",
    "\n",
    "<img  height=\"50\" width=\"400\" src=\"files/git_feature_develop.png\"> "
   ]
  },
  {
   "cell_type": "markdown",
   "metadata": {},
   "source": [
    "## - Git for debugging"
   ]
  },
  {
   "cell_type": "markdown",
   "metadata": {},
   "source": [
    "git keeps track of changes, lines added, changed, deleted, and these can be displayed to make it clear how two different commits differ. This makes it much easier to see why some edits you've made have broken your code.\n",
    "\n",
    "The comparison below shows the change betwen two commits. In this case all I've done is to return the commented out text back to the script.\n",
    "\n",
    "<img  height=\"50\" width=\"1000\" src=\"files/bitbucket_diff.png\"> "
   ]
  },
  {
   "cell_type": "markdown",
   "metadata": {},
   "source": [
    "There are many better and worse ways to use Git, but using it is better than not! Github and bitbucket have explanations of the basics and I found this guide helpful [git_branching_model](http://nvie.com/posts/a-successful-git-branching-model/)"
   ]
  }
 ],
 "metadata": {
  "kernelspec": {
   "display_name": "Python 2",
   "language": "python",
   "name": "python2"
  },
  "language_info": {
   "codemirror_mode": {
    "name": "ipython",
    "version": 2
   },
   "file_extension": ".py",
   "mimetype": "text/x-python",
   "name": "python",
   "nbconvert_exporter": "python",
   "pygments_lexer": "ipython2",
   "version": "2.7.13"
  }
 },
 "nbformat": 4,
 "nbformat_minor": 1
}
