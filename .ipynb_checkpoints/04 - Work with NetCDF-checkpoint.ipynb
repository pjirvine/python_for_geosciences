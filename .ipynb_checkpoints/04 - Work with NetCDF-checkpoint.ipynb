{
 "cells": [
  {
   "cell_type": "markdown",
   "metadata": {},
   "source": [
    "# Work with NetCDF"
   ]
  },
  {
   "cell_type": "markdown",
   "metadata": {},
   "source": [
    "Course developed by: Nikolay Koldunov, email at: koldunovn@gmail.com\n",
    "\n",
    "Course modified by: Peter Irvine, email at: p.j.irvine@gmail.com\n",
    "\n",
    "developed from [**Python for Geosciences**](https://github.com/koldunovn/python_for_geosciences) notes."
   ]
  },
  {
   "cell_type": "markdown",
   "metadata": {},
   "source": [
    "================"
   ]
  },
  {
   "cell_type": "code",
   "execution_count": 14,
   "metadata": {
    "collapsed": true
   },
   "outputs": [],
   "source": [
    "%matplotlib inline\n",
    "import matplotlib.pylab as plt\n",
    "import numpy as np"
   ]
  },
  {
   "cell_type": "markdown",
   "metadata": {},
   "source": [
    "## Other data formats\n",
    "\n",
    "The original version of this workbook [LINK](https://github.com/koldunovn/python_for_geosciences/blob/master/04%20-%20Work%20with%20different%20data%20formats.ipynb) also covers working with binary files and .mat files but I've cut this material to save time."
   ]
  },
  {
   "cell_type": "markdown",
   "metadata": {},
   "source": [
    "# NetCDF Files"
   ]
  },
  {
   "cell_type": "markdown",
   "metadata": {},
   "source": [
    "Scipy have function for working with netCDF files, and you can import it with:\n",
    "    from scipy.io import netcdf\n",
    "However it only supports netCDF3 format. It is better to use [python netcdf4](https://github.com/Unidata/netcdf4-python) module that have a lot of nice functionality. Moreover NCEP reanalysis data, that we are going to work with are in netCDF4 format.\n",
    "\n",
    "There is also the [CF-Python](https://cfpython.bitbucket.io/) module developed at Reading university.\n",
    "\n",
    "... and the [Python CDO binding](https://pypi.python.org/pypi/cdo/1.3.3) module can be used to read data from netcdfs.\n",
    "\n",
    "... and one half of the Python binding of the NCL library that deals with reading various file types [PyNio](http://www.pyngl.ucar.edu/Nio.shtml)"
   ]
  },
  {
   "cell_type": "markdown",
   "metadata": {},
   "source": [
    "Import nessesary function:"
   ]
  },
  {
   "cell_type": "code",
   "execution_count": 3,
   "metadata": {
    "collapsed": true
   },
   "outputs": [],
   "source": [
    "from netCDF4 import Dataset"
   ]
  },
  {
   "cell_type": "markdown",
   "metadata": {},
   "source": [
    "I am going to download [NCEP reanalysis data](http://www.esrl.noaa.gov/psd/data/reanalysis/reanalysis.shtml). Surface 4 daily air temperature for 2012."
   ]
  },
  {
   "cell_type": "code",
   "execution_count": 1,
   "metadata": {},
   "outputs": [
    {
     "name": "stdout",
     "output_type": "stream",
     "text": [
      "--2017-07-17 18:06:33--  ftp://ftp.cdc.noaa.gov/Datasets/ncep.reanalysis/surface/air.sig995.2012.nc\n",
      "           => “air.sig995.2012.nc”\n",
      "Resolving ftp.cdc.noaa.gov... 140.172.38.117\n",
      "Connecting to ftp.cdc.noaa.gov|140.172.38.117|:21... connected.\n",
      "Logging in as anonymous ... Logged in!\n",
      "==> SYST ... done.    ==> PWD ... done.\n",
      "==> TYPE I ... done.  ==> CWD (1) /Datasets/ncep.reanalysis/surface ... done.\n",
      "==> SIZE air.sig995.2012.nc ... 22278402\n",
      "==> PASV ... done.    ==> RETR air.sig995.2012.nc ... done.\n",
      "Length: 22278402 (21M) (unauthoritative)\n",
      "\n",
      "100%[======================================>] 22,278,402  1.56M/s   in 10s     \n",
      "\n",
      "2017-07-17 18:06:45 (2.06 MB/s) - “air.sig995.2012.nc” saved [22278402]\n",
      "\n"
     ]
    }
   ],
   "source": [
    "!wget ftp://ftp.cdc.noaa.gov/Datasets/ncep.reanalysis/surface/air.sig995.2012.nc\n",
    "\n",
    "#Alternative for the times of US goverment shutdowns:\n",
    "#!wget http://database.rish.kyoto-u.ac.jp/arch/ncep/data/ncep.reanalysis/surface/air.sig995.2012.nc"
   ]
  },
  {
   "cell_type": "markdown",
   "metadata": {},
   "source": [
    "Store the *netcdf_file* object as a variable:"
   ]
  },
  {
   "cell_type": "code",
   "execution_count": 4,
   "metadata": {},
   "outputs": [],
   "source": [
    "fnc = Dataset('air.sig995.2012.nc')"
   ]
  },
  {
   "cell_type": "markdown",
   "metadata": {},
   "source": [
    "The *netcdf_file* object has specific methods and attributes:"
   ]
  },
  {
   "cell_type": "code",
   "execution_count": 5,
   "metadata": {},
   "outputs": [
    {
     "data": {
      "text/plain": [
       "u'Data is from NMC initialized reanalysis\\n(4x/day).  These are the 0.9950 sigma level values.'"
      ]
     },
     "execution_count": 5,
     "metadata": {},
     "output_type": "execute_result"
    }
   ],
   "source": [
    "fnc.description"
   ]
  },
  {
   "cell_type": "code",
   "execution_count": 6,
   "metadata": {},
   "outputs": [
    {
     "data": {
      "text/plain": [
       "u'created 2011/12 by Hoop (netCDF2.3)\\nConverted to chunked, deflated non-packed NetCDF4 2014/09'"
      ]
     },
     "execution_count": 6,
     "metadata": {},
     "output_type": "execute_result"
    }
   ],
   "source": [
    "fnc.history"
   ]
  },
  {
   "cell_type": "markdown",
   "metadata": {},
   "source": [
    "list variables"
   ]
  },
  {
   "cell_type": "code",
   "execution_count": 7,
   "metadata": {},
   "outputs": [
    {
     "data": {
      "text/plain": [
       "OrderedDict([(u'lat', <type 'netCDF4._netCDF4.Variable'>\n",
       "              float32 lat(lat)\n",
       "                  units: degrees_north\n",
       "                  actual_range: [ 90. -90.]\n",
       "                  long_name: Latitude\n",
       "                  standard_name: latitude\n",
       "                  axis: Y\n",
       "              unlimited dimensions: \n",
       "              current shape = (73,)\n",
       "              filling on, default _FillValue of 9.96920996839e+36 used),\n",
       "             (u'lon', <type 'netCDF4._netCDF4.Variable'>\n",
       "              float32 lon(lon)\n",
       "                  units: degrees_east\n",
       "                  long_name: Longitude\n",
       "                  actual_range: [   0.   357.5]\n",
       "                  standard_name: longitude\n",
       "                  axis: X\n",
       "              unlimited dimensions: \n",
       "              current shape = (144,)\n",
       "              filling on, default _FillValue of 9.96920996839e+36 used),\n",
       "             (u'time', <type 'netCDF4._netCDF4.Variable'>\n",
       "              float64 time(time)\n",
       "                  long_name: Time\n",
       "                  delta_t: 0000-00-00 06:00:00\n",
       "                  standard_name: time\n",
       "                  axis: T\n",
       "                  units: hours since 1800-01-01 00:00:0.0\n",
       "                  actual_range: [ 1858344.  1867122.]\n",
       "              unlimited dimensions: time\n",
       "              current shape = (1464,)\n",
       "              filling on, default _FillValue of 9.96920996839e+36 used),\n",
       "             (u'air', <type 'netCDF4._netCDF4.Variable'>\n",
       "              float32 air(time, lat, lon)\n",
       "                  long_name: 4xDaily Air temperature at sigma level 995\n",
       "                  units: degK\n",
       "                  precision: 2\n",
       "                  least_significant_digit: 1\n",
       "                  GRIB_id: 11\n",
       "                  GRIB_name: TMP\n",
       "                  var_desc: Air temperature\n",
       "                  level_desc: Surface\n",
       "                  statistic: Individual Obs\n",
       "                  parent_stat: Other\n",
       "                  missing_value: -9.96921e+36\n",
       "                  actual_range: [ 191.1000061  323.       ]\n",
       "                  valid_range: [ 185.16000366  331.16000366]\n",
       "                  dataset: NCEP Reanalysis\n",
       "              unlimited dimensions: time\n",
       "              current shape = (1464, 73, 144)\n",
       "              filling on, default _FillValue of 9.96920996839e+36 used)])"
      ]
     },
     "execution_count": 7,
     "metadata": {},
     "output_type": "execute_result"
    }
   ],
   "source": [
    "fnc.variables"
   ]
  },
  {
   "cell_type": "markdown",
   "metadata": {},
   "source": [
    "Access information about variables"
   ]
  },
  {
   "cell_type": "code",
   "execution_count": 8,
   "metadata": {
    "collapsed": true
   },
   "outputs": [],
   "source": [
    "air = fnc.variables['air']"
   ]
  },
  {
   "cell_type": "markdown",
   "metadata": {},
   "source": [
    "This time we create *netcdf_variable* object, that contain among other things attributes of the netCDF variable as well as the data itself. "
   ]
  },
  {
   "cell_type": "code",
   "execution_count": 9,
   "metadata": {},
   "outputs": [
    {
     "data": {
      "text/plain": [
       "array([ 191.1000061,  323.       ], dtype=float32)"
      ]
     },
     "execution_count": 9,
     "metadata": {},
     "output_type": "execute_result"
    }
   ],
   "source": [
    "air.actual_range"
   ]
  },
  {
   "cell_type": "code",
   "execution_count": 10,
   "metadata": {},
   "outputs": [
    {
     "data": {
      "text/plain": [
       "u'4xDaily Air temperature at sigma level 995'"
      ]
     },
     "execution_count": 10,
     "metadata": {},
     "output_type": "execute_result"
    }
   ],
   "source": [
    "air.long_name"
   ]
  },
  {
   "cell_type": "code",
   "execution_count": 11,
   "metadata": {},
   "outputs": [
    {
     "data": {
      "text/plain": [
       "u'degK'"
      ]
     },
     "execution_count": 11,
     "metadata": {},
     "output_type": "execute_result"
    }
   ],
   "source": [
    "air.units"
   ]
  },
  {
   "cell_type": "code",
   "execution_count": 12,
   "metadata": {},
   "outputs": [
    {
     "data": {
      "text/plain": [
       "(1464, 73, 144)"
      ]
     },
     "execution_count": 12,
     "metadata": {},
     "output_type": "execute_result"
    }
   ],
   "source": [
    "air.shape"
   ]
  },
  {
   "cell_type": "markdown",
   "metadata": {},
   "source": [
    "We can access the data by simply using array syntax. Here we show first time step of our data set:"
   ]
  },
  {
   "cell_type": "code",
   "execution_count": 15,
   "metadata": {},
   "outputs": [
    {
     "data": {
      "image/png": "[encoded data removed]",
      "text/plain": [
       "<matplotlib.figure.Figure at 0x2ab27ae4ad90>"
      ]
     },
     "metadata": {},
     "output_type": "display_data"
    }
   ],
   "source": [
    "plt.imshow(air[0,:,:])\n",
    "plt.colorbar();"
   ]
  },
  {
   "cell_type": "markdown",
   "metadata": {},
   "source": [
    "### Save netCDF file"
   ]
  },
  {
   "cell_type": "markdown",
   "metadata": {},
   "source": [
    "Minimalistic variant :)"
   ]
  },
  {
   "cell_type": "code",
   "execution_count": 16,
   "metadata": {},
   "outputs": [
    {
     "name": "stdout",
     "output_type": "stream",
     "text": [
      "rm: cannot remove `test_netcdf.nc': No such file or directory\r\n"
     ]
    }
   ],
   "source": [
    "!rm test_netcdf.nc\n",
    "fw = Dataset('test_netcdf.nc', 'w')\n",
    "\n",
    "fw.createDimension('t', 1464)\n",
    "fw.createDimension('y', 73)\n",
    "fw.createDimension('x', 144)\n",
    "\n",
    "air_var = fw.createVariable( 'air','float32', ('t', 'y', 'x'))\n",
    "air_var[:] = air[:]\n",
    "fw.close()"
   ]
  },
  {
   "cell_type": "markdown",
   "metadata": {},
   "source": [
    "More descriptive variant:"
   ]
  },
  {
   "cell_type": "code",
   "execution_count": 17,
   "metadata": {
    "collapsed": true
   },
   "outputs": [],
   "source": [
    "!rm test_netcdf.nc\n",
    "fw = Dataset('test_netcdf.nc', 'w')\n",
    "\n",
    "fw.createDimension('TIME', 1464)\n",
    "fw.createDimension('LATITUDE', 73)\n",
    "fw.createDimension('LONGITUDE', 144)\n",
    "\n",
    "time = fw.createVariable('TIME', 'f', ('TIME',))\n",
    "time[:] = fnc.variables['time'][:]\n",
    "time.units = 'hours since 1-1-1 00:00:0.0' \n",
    "\n",
    "lat  = fw.createVariable('LATITUDE', 'f', ('LATITUDE',))\n",
    "lat[:] = fnc.variables['lat'][:]\n",
    "\n",
    "lon = fw.createVariable('LONGITUDE', 'f', ('LONGITUDE',))\n",
    "lon[:] = fnc.variables['lon'][:]\n",
    "\n",
    "ha = fw.createVariable('New_air','f', ('TIME', 'LATITUDE', 'LONGITUDE'))\n",
    "ha[:] = air[:]\n",
    "ha.missing_value = -9999.\n",
    "\n",
    "fw.close()"
   ]
  },
  {
   "cell_type": "markdown",
   "metadata": {},
   "source": [
    "## Links"
   ]
  },
  {
   "cell_type": "markdown",
   "metadata": {},
   "source": [
    "* [PyNio - library that reads NetCDF, GRIB, HDF and so on ... ](http://www.pyngl.ucar.edu/Nio.shtml)\n",
    "* [netCDF4 - advanced netCDF module](http://netcdf4-python.googlecode.com/svn/trunk/docs/netCDF4-module.html)\n",
    "* [Scipy cookbook](http://wiki.scipy.org/Cookbook)"
   ]
  },
  {
   "cell_type": "code",
   "execution_count": null,
   "metadata": {
    "collapsed": true
   },
   "outputs": [],
   "source": []
  }
 ],
 "metadata": {
  "kernelspec": {
   "display_name": "Python 2",
   "language": "python",
   "name": "python2"
  },
  "language_info": {
   "codemirror_mode": {
    "name": "ipython",
    "version": 2
   },
   "file_extension": ".py",
   "mimetype": "text/x-python",
   "name": "python",
   "nbconvert_exporter": "python",
   "pygments_lexer": "ipython2",
   "version": "2.7.13"
  }
 },
 "nbformat": 4,
 "nbformat_minor": 1
}
